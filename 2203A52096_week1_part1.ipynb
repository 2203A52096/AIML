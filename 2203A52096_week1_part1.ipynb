{
  "nbformat": 4,
  "nbformat_minor": 0,
  "metadata": {
    "colab": {
      "provenance": []
    },
    "kernelspec": {
      "name": "python3",
      "display_name": "Python 3"
    },
    "language_info": {
      "name": "python"
    }
  },
  "cells": [
    {
      "cell_type": "code",
      "execution_count": 30,
      "metadata": {
        "colab": {
          "base_uri": "https://localhost:8080/"
        },
        "id": "JT6autVFEOhq",
        "outputId": "974359d5-99b9-469a-c535-e0dec4df1bfe"
      },
      "outputs": [
        {
          "output_type": "stream",
          "name": "stdout",
          "text": [
            "list= [101, 22, 15]\n",
            "array= [101  22  15]\n",
            "type= <class 'numpy.ndarray'>\n",
            "type= <class 'list'>\n"
          ]
        }
      ],
      "source": [
        "#Part 1 – Implement Basic Data Structures using Numpy, Pandas\n",
        "\n",
        "import numpy as np\n",
        "l1=[101,22,15]\n",
        "a1=np.array(l1)\n",
        "print(\"list=\",l1)\n",
        "print(\"array=\",a1)\n",
        "print(\"type=\",type(a1))\n",
        "print(\"type=\",type(l1))"
      ]
    },
    {
      "cell_type": "code",
      "source": [
        "import numpy as np\n",
        "arr1=(10,11,12)\n",
        "arr2=(20,12,22)\n",
        "mul=np.multiply(arr1,arr2)\n",
        "print(mul)\n",
        "div=np.divide(arr1,arr2)\n",
        "print(div)\n",
        "pow=np.power(arr1,arr2)\n",
        "print(pow)"
      ],
      "metadata": {
        "colab": {
          "base_uri": "https://localhost:8080/"
        },
        "id": "gr2dih7KHa6c",
        "outputId": "3c97a6bc-0351-47a8-8663-a2e6cbbe2f96"
      },
      "execution_count": 31,
      "outputs": [
        {
          "output_type": "stream",
          "name": "stdout",
          "text": [
            "[200 132 264]\n",
            "[0.5        0.91666667 0.54545455]\n",
            "[7766279631452241920       3138428376721 5729018530666381312]\n"
          ]
        }
      ]
    },
    {
      "cell_type": "code",
      "source": [
        "result= arr1 + arr2\n",
        "\n",
        "# Create a textual output\n",
        "output_text = f\"Addition of Two Arrays:\\narray1 + array2 = {result}\"\n",
        "\n",
        "# Print the result\n",
        "print(output_text)"
      ],
      "metadata": {
        "colab": {
          "base_uri": "https://localhost:8080/"
        },
        "id": "x_zuLivAKPGn",
        "outputId": "59915366-323f-4f58-bfbb-ff2fb1b1d09b"
      },
      "execution_count": 32,
      "outputs": [
        {
          "output_type": "stream",
          "name": "stdout",
          "text": [
            "Addition of Two Arrays:\n",
            "array1 + array2 = (10, 11, 12, 20, 12, 22)\n"
          ]
        }
      ]
    },
    {
      "cell_type": "code",
      "source": [
        "print(np.sin(0))\n",
        "print(np.cos(0))\n",
        "print(np.log(20))\n",
        "print(np.exp(2.23))"
      ],
      "metadata": {
        "colab": {
          "base_uri": "https://localhost:8080/"
        },
        "id": "dn06Iqn_TQ2f",
        "outputId": "330521ad-37c3-47cc-ed56-94ad16163f31"
      },
      "execution_count": 33,
      "outputs": [
        {
          "output_type": "stream",
          "name": "stdout",
          "text": [
            "0.0\n",
            "1.0\n",
            "2.995732273553991\n",
            "9.299866079483586\n"
          ]
        }
      ]
    }
  ]
}